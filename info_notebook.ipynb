{
 "cells": [
  {
   "cell_type": "markdown",
   "metadata": {},
   "source": [
    "# PDB Formatting"
   ]
  },
  {
   "cell_type": "markdown",
   "metadata": {},
   "source": [
    "REMARK   1 CREATED WITH MDTraj 1.9.1, 2025-01-14\n",
    "CRYST1   50.161   49.646   79.222  90.00  90.00  90.00 P 1           1\n",
    "MODEL        0\n",
    "ATOM      1  O   HOH A   0\t 9.190  11.020  39.220  1.00  0.00          O\n",
    "ATOM      2  O   HOH A   1\t22.390  13.050  52.720  1.00  0.00          O\n",
    "ATOM      3  O   HOH A   2\t46.460  17.430   0.030  1.00  0.00          O\n",
    "ATOM      4  O   HOH A   3\t10.580   9.370  60.980  1.00  0.00          O\n",
    "ATOM      5  O   HOH A   4\t47.190   6.280  45.650  1.00  0.00          O\n",
    "ATOM      6  O   HOH A   5\t28.560   3.810  31.970  1.00  0.00          O\n",
    "ATOM      7  O   HOH A   6\t14.450  26.840  62.980  1.00  0.00          O\n",
    "ATOM      8  O   HOH A   7\t18.189   8.260   3.490  1.00  0.00          O\n",
    "ATOM      9  O   HOH A   8\t 6.910  33.600  47.420  1.00  0.00          O\n",
    "ATOM     10  O   HOH A   9\t28.770  37.210  12.690  1.00  0.00          O\n",
    "ATOM     11  O   HOH A  10\t 8.830  24.680  55.440  1.00  0.00          O\n",
    ".\n",
    ".\n",
    ".\n",
    "ATOM   6541  O   HOH A6540\t14.200  34.860  35.381  1.00  0.00          O\n",
    "TER    6542\t HOH A6540\n",
    "ENDMDL\n",
    "MODEL        1\n",
    "ATOM\t  1  O   HOH A   0\t 9.294  10.837  37.443  1.00  0.00          O\n",
    ".\n",
    ".\n",
    "."
   ]
  },
  {
   "cell_type": "code",
   "execution_count": null,
   "metadata": {},
   "outputs": [],
   "source": [
    "outfile = open(\"ligand_for_{}\".format(inputfile[0:18]), \"w\")\n",
    "outfile.write(\"REMARK   1 CREATED WITH MDTraj 1.9.1, 2025-01-14\\n\")\n",
    "outfile.write(\"CRYST1   50.161   49.646   79.222  90.00  90.00  90.00 P 1           1\\n\")\n",
    "slab_indx = 0\n",
    "atmndx = 1\n",
    "for ndx, i in enumerate(cluster_center_coords):\n",
    "    # if i[0] in final_orientational_clusters:\n",
    "        outfile.write(\"{:6s}{:5d} {:^4s} {:3s} {:1s}{:4d}    {:8.3f}{:8.3f}{:8.3f}  {}%\\n\".format(\"ATOM\", atmndx, \"OW\", \"SOL\", \"C\", 5688, individual_fixed_to_center_o_x[i[0]], individual_fixed_to_center_o_y[i[0]], individual_fixed_to_center_o_z[i[0]], i[2]))\n",
    "        atmndx += 1\n",
    "        outfile.write(\"{:6s}{:5d} {:^4s} {:3s} {:1s}{:4d}    {:8.3f}{:8.3f}{:8.3f}\\n\".format(\"ATOM\", atmndx, \"H1\", \"SOL\", \"X\", 5688, individual_fixed_to_center_h1_x[i[0]], individual_fixed_to_center_h1_y[i[0]], individual_fixed_to_center_h1_z[i[0]]))\n",
    "        atmndx += 1\n",
    "        outfile.write(\"{:6s}{:5d} {:^4s} {:3s} {:1s}{:4d}    {:8.3f}{:8.3f}{:8.3f}\\n\".format(\"ATOM\", atmndx, \"H2\", \"SOL\", \"X\", 5688, individual_fixed_to_center_h2_x[i[0]], individual_fixed_to_center_h2_y[i[0]], individual_fixed_to_center_h2_z[i[0]]))\n",
    "        atmndx += 1\n",
    "outfile.close()"
   ]
  },
  {
   "cell_type": "code",
   "execution_count": null,
   "metadata": {},
   "outputs": [],
   "source": [
    "pdb_line_format = \"{0:6}{1:>5}  {2:<3}{3:<1}{4:>3} {5:1}{6:>4}{7:1}   {8[0]:>8.3f}{8[1]:>8.3f}{8[2]:>8.3f}{9:>6.2f}{10:>6.2f}{11:>12s}\\n\"\n",
    "ter_line_format = \"{0:3}   {1:>5}      {2:>3} {3:1}{4:4} \\n\"\n",
    "pdb_lines = []"
   ]
  },
  {
   "cell_type": "markdown",
   "metadata": {},
   "source": [
    "Columns\tData\t                        Justification\tData Type\n",
    "ATOM\n",
    "1-4     “ATOM”\t\t\n",
    "7-11\tAtom serial number\t            right\n",
    "13-16\tAtom name\t                    left*\n",
    "17\t    Alternate location indicator\n",
    "18-20\tResidue name\t                right\t\n",
    "22\t    Chain identifier\n",
    "23-26\tResidue sequence number\t        right\n",
    "27\t    Code for insertions of residues\n",
    "31-38\tX orthogonal Å coordinate\t    right\t    real(8.3)\n",
    "39-46\tY orthogonal Å coordinate   \tright\t    real(8.3)\n",
    "47-54\tZ orthogonal Å coordinate\t    right\t    real(8.3)\n",
    "55-60\tOccupancy\t                    right\t    real (6.2)\n",
    "61-66\tTemperature factor\t            right\t    real (6.2)\n",
    "73-76\tSegment identifier¶\t            left\t\n",
    "77-78\tElement symbol\t                right\n",
    "79-80\tCharge\t\t\n",
    "HETATM\t1-6\t“HETATM”\t\t\n",
    "7-80\tsame as ATOM records\n",
    "TER\t1-3\t“TER”\t\tcharacter\n",
    "7-11#\tSerial number\tright\tinteger\n",
    "18-20§\tResidue name\tright\tcharacter\n",
    "22\tChain identifier\t\tcharacter\n",
    "23-26\tResidue sequence number\tright\tinteger\n",
    "27\tCode for insertions of residues\t\tcharacter\n",
    "\n",
    "\n",
    "\n",
    ".\n",
    ".\n",
    ".\n",
    "ATOM      i  O   HOH A   5\t28.560   3.810  31.970  1.00  0.00          O\n"
   ]
  },
  {
   "cell_type": "markdown",
   "metadata": {},
   "source": [
    "# Variables"
   ]
  },
  {
   "cell_type": "markdown",
   "metadata": {},
   "source": [
    "'-w', '--site_water_file'\n",
    "sw_file = args.site_water_file\n",
    "sw_file = os.path.abspath(args.site_water_file)\n",
    "\n",
    "self.site_water_file = site_water_file (__init__)\n",
    "\n",
    "self.site_waters = None (__init__)\n",
    "\n",
    "\n",
    "'-c', '--clusters'  (PDB file containing cluster centers.)\n",
    "clusters = args.clusters\n",
    "clusters = os.path.abspath(args.clusters)\n",
    "\n",
    "self.clustercenter_file = clustercenter_file (__init__)\n",
    "----------------------------------------------------------\n",
    "h = SiteWaterAnalysis(... , ligand_file=ligand, supporting_file=supp, clustercenter_file=clusters, ... ,prefix=args.output_prefix, site_water_file=sw_file)\n",
    "\n",
    "class SiteWaterAnalysis(WaterAnalysis):\n",
    "    def __init__(self,..., ligand_file=None, clustercenter_file=None,\n",
    "                 site_water_file=None):\n",
    "\n",
    "\n",
    "\n"
   ]
  },
  {
   "cell_type": "code",
   "execution_count": null,
   "metadata": {},
   "outputs": [],
   "source": []
  }
 ],
 "metadata": {
  "language_info": {
   "name": "python"
  }
 },
 "nbformat": 4,
 "nbformat_minor": 2
}
